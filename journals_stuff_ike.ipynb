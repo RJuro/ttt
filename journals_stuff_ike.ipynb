{
  "nbformat": 4,
  "nbformat_minor": 0,
  "metadata": {
    "colab": {
      "provenance": [],
      "authorship_tag": "ABX9TyPlIz7KW/y/IwG421dZAjde",
      "include_colab_link": true
    },
    "kernelspec": {
      "name": "python3",
      "display_name": "Python 3"
    },
    "language_info": {
      "name": "python"
    }
  },
  "cells": [
    {
      "cell_type": "markdown",
      "metadata": {
        "id": "view-in-github",
        "colab_type": "text"
      },
      "source": [
        "<a href=\"https://colab.research.google.com/github/RJuro/ttt/blob/master/journals_stuff_ike.ipynb\" target=\"_parent\"><img src=\"https://colab.research.google.com/assets/colab-badge.svg\" alt=\"Open In Colab\"/></a>"
      ]
    },
    {
      "cell_type": "code",
      "execution_count": null,
      "metadata": {
        "colab": {
          "base_uri": "https://localhost:8080/"
        },
        "id": "cU_HGrGLxpVb",
        "outputId": "f7228a1a-3637-49b9-f93c-b6dfec01f15d"
      },
      "outputs": [
        {
          "output_type": "stream",
          "name": "stdout",
          "text": [
            "\u001b[?25l     \u001b[90m━━━━━━━━━━━━━━━━━━━━━━━━━━━━━━━━━━━━━━━━\u001b[0m \u001b[32m0.0/2.2 MB\u001b[0m \u001b[31m?\u001b[0m eta \u001b[36m-:--:--\u001b[0m\r\u001b[2K     \u001b[91m━━━━━━━━━━━━━━━━━━━━━━━━━━━━━━━━━━━━━━━\u001b[0m\u001b[91m╸\u001b[0m \u001b[32m2.2/2.2 MB\u001b[0m \u001b[31m73.2 MB/s\u001b[0m eta \u001b[36m0:00:01\u001b[0m\r\u001b[2K     \u001b[91m━━━━━━━━━━━━━━━━━━━━━━━━━━━━━━━━━━━━━━━\u001b[0m\u001b[91m╸\u001b[0m \u001b[32m2.2/2.2 MB\u001b[0m \u001b[31m73.2 MB/s\u001b[0m eta \u001b[36m0:00:01\u001b[0m\r\u001b[2K     \u001b[91m━━━━━━━━━━━━━━━━━━━━━━━━━━━━━━━━━━━━━━━\u001b[0m\u001b[91m╸\u001b[0m \u001b[32m2.2/2.2 MB\u001b[0m \u001b[31m73.2 MB/s\u001b[0m eta \u001b[36m0:00:01\u001b[0m\r\u001b[2K     \u001b[90m━━━━━━━━━━━━━━━━━━━━━━━━━━━━━━━━━━━━━━━━\u001b[0m \u001b[32m2.2/2.2 MB\u001b[0m \u001b[31m14.6 MB/s\u001b[0m eta \u001b[36m0:00:00\u001b[0m\n",
            "\u001b[?25h"
          ]
        }
      ],
      "source": [
        "!pip install polyfuzz -q"
      ]
    },
    {
      "cell_type": "code",
      "source": [
        "from polyfuzz import PolyFuzz\n",
        "from sklearn.feature_extraction.text import CountVectorizer\n",
        "import pandas as pd"
      ],
      "metadata": {
        "colab": {
          "base_uri": "https://localhost:8080/"
        },
        "id": "naM4SiS2xvHN",
        "outputId": "e14715b0-f968-4928-d8e0-67d52e15be1d"
      },
      "execution_count": null,
      "outputs": [
        {
          "output_type": "stream",
          "name": "stderr",
          "text": [
            "/usr/local/lib/python3.9/dist-packages/torch/cuda/__init__.py:497: UserWarning: Can't initialize NVML\n",
            "  warnings.warn(\"Can't initialize NVML\")\n"
          ]
        }
      ]
    },
    {
      "cell_type": "code",
      "source": [
        "all_journals = pd.read_excel('/content/MostUsedSeriesAllGroups.xlsx', header=None)"
      ],
      "metadata": {
        "id": "MUzsrGMA6e-K"
      },
      "execution_count": null,
      "outputs": []
    },
    {
      "cell_type": "code",
      "source": [
        "all_journals.columns = ['journal','group']"
      ],
      "metadata": {
        "id": "EbkilPS96h-g"
      },
      "execution_count": null,
      "outputs": []
    },
    {
      "cell_type": "code",
      "source": [
        "all_journals = all_journals.dropna()"
      ],
      "metadata": {
        "id": "KY_JItHD7WGW"
      },
      "execution_count": null,
      "outputs": []
    },
    {
      "cell_type": "code",
      "source": [
        "all_titles = all_journals.journal.tolist()"
      ],
      "metadata": {
        "id": "BJT5Wxdh7MIV"
      },
      "execution_count": null,
      "outputs": []
    },
    {
      "cell_type": "code",
      "source": [
        "ajg = pd.read_excel('/content/AJG list.xlsx')"
      ],
      "metadata": {
        "id": "LxvhDYFyyLr0"
      },
      "execution_count": null,
      "outputs": []
    },
    {
      "cell_type": "code",
      "source": [
        "ajg.head()"
      ],
      "metadata": {
        "colab": {
          "base_uri": "https://localhost:8080/",
          "height": 497
        },
        "id": "CnTi9gJly3_s",
        "outputId": "8c0233d0-2592-4672-c03a-d906c85f33bd"
      },
      "execution_count": null,
      "outputs": [
        {
          "output_type": "execute_result",
          "data": {
            "text/plain": [
              "        ISSN    Field                          Jourmal Title  \\\n",
              "0  1558-7967  ACCOUNT                      Accounting Review   \n",
              "1  1873-6289  ACCOUNT  Accounting, Organizations and Society   \n",
              "2  1879-1980  ACCOUNT    Journal of Accounting and Economics   \n",
              "3  1475-679X  ACCOUNT         Journal of Accounting Research   \n",
              "4  1911-3846  ACCOUNT       Contemporary Accounting Research   \n",
              "\n",
              "                    Publisher Name AJG 2021 AJG 2018 AJG 2015  ABS 2010  \\\n",
              "0  American Accounting Association       4*       4*       4*       4.0   \n",
              "1                         Elsevier       4*       4*       4*       4.0   \n",
              "2                         Elsevier       4*       4*       4*       4.0   \n",
              "3                  Wiley-Blackwell       4*       4*       4*       4.0   \n",
              "4                  Wiley-Blackwell        4        4        4       3.0   \n",
              "\n",
              "   Journal Citation Reports rank  SNIP rank  SJR rank  Cite score rank  \n",
              "0                            4.0        3.0       3.0              4.0  \n",
              "1                            5.0        5.0       6.0              5.0  \n",
              "2                            1.0        1.0       2.0              1.0  \n",
              "3                            2.0        2.0       1.0              2.0  \n",
              "4                            6.0        6.0       4.0              7.0  "
            ],
            "text/html": [
              "\n",
              "  <div id=\"df-65267873-0f5d-4a12-bddc-645f4dc36993\">\n",
              "    <div class=\"colab-df-container\">\n",
              "      <div>\n",
              "<style scoped>\n",
              "    .dataframe tbody tr th:only-of-type {\n",
              "        vertical-align: middle;\n",
              "    }\n",
              "\n",
              "    .dataframe tbody tr th {\n",
              "        vertical-align: top;\n",
              "    }\n",
              "\n",
              "    .dataframe thead th {\n",
              "        text-align: right;\n",
              "    }\n",
              "</style>\n",
              "<table border=\"1\" class=\"dataframe\">\n",
              "  <thead>\n",
              "    <tr style=\"text-align: right;\">\n",
              "      <th></th>\n",
              "      <th>ISSN</th>\n",
              "      <th>Field</th>\n",
              "      <th>Jourmal Title</th>\n",
              "      <th>Publisher Name</th>\n",
              "      <th>AJG 2021</th>\n",
              "      <th>AJG 2018</th>\n",
              "      <th>AJG 2015</th>\n",
              "      <th>ABS 2010</th>\n",
              "      <th>Journal Citation Reports rank</th>\n",
              "      <th>SNIP rank</th>\n",
              "      <th>SJR rank</th>\n",
              "      <th>Cite score rank</th>\n",
              "    </tr>\n",
              "  </thead>\n",
              "  <tbody>\n",
              "    <tr>\n",
              "      <th>0</th>\n",
              "      <td>1558-7967</td>\n",
              "      <td>ACCOUNT</td>\n",
              "      <td>Accounting Review</td>\n",
              "      <td>American Accounting Association</td>\n",
              "      <td>4*</td>\n",
              "      <td>4*</td>\n",
              "      <td>4*</td>\n",
              "      <td>4.0</td>\n",
              "      <td>4.0</td>\n",
              "      <td>3.0</td>\n",
              "      <td>3.0</td>\n",
              "      <td>4.0</td>\n",
              "    </tr>\n",
              "    <tr>\n",
              "      <th>1</th>\n",
              "      <td>1873-6289</td>\n",
              "      <td>ACCOUNT</td>\n",
              "      <td>Accounting, Organizations and Society</td>\n",
              "      <td>Elsevier</td>\n",
              "      <td>4*</td>\n",
              "      <td>4*</td>\n",
              "      <td>4*</td>\n",
              "      <td>4.0</td>\n",
              "      <td>5.0</td>\n",
              "      <td>5.0</td>\n",
              "      <td>6.0</td>\n",
              "      <td>5.0</td>\n",
              "    </tr>\n",
              "    <tr>\n",
              "      <th>2</th>\n",
              "      <td>1879-1980</td>\n",
              "      <td>ACCOUNT</td>\n",
              "      <td>Journal of Accounting and Economics</td>\n",
              "      <td>Elsevier</td>\n",
              "      <td>4*</td>\n",
              "      <td>4*</td>\n",
              "      <td>4*</td>\n",
              "      <td>4.0</td>\n",
              "      <td>1.0</td>\n",
              "      <td>1.0</td>\n",
              "      <td>2.0</td>\n",
              "      <td>1.0</td>\n",
              "    </tr>\n",
              "    <tr>\n",
              "      <th>3</th>\n",
              "      <td>1475-679X</td>\n",
              "      <td>ACCOUNT</td>\n",
              "      <td>Journal of Accounting Research</td>\n",
              "      <td>Wiley-Blackwell</td>\n",
              "      <td>4*</td>\n",
              "      <td>4*</td>\n",
              "      <td>4*</td>\n",
              "      <td>4.0</td>\n",
              "      <td>2.0</td>\n",
              "      <td>2.0</td>\n",
              "      <td>1.0</td>\n",
              "      <td>2.0</td>\n",
              "    </tr>\n",
              "    <tr>\n",
              "      <th>4</th>\n",
              "      <td>1911-3846</td>\n",
              "      <td>ACCOUNT</td>\n",
              "      <td>Contemporary Accounting Research</td>\n",
              "      <td>Wiley-Blackwell</td>\n",
              "      <td>4</td>\n",
              "      <td>4</td>\n",
              "      <td>4</td>\n",
              "      <td>3.0</td>\n",
              "      <td>6.0</td>\n",
              "      <td>6.0</td>\n",
              "      <td>4.0</td>\n",
              "      <td>7.0</td>\n",
              "    </tr>\n",
              "  </tbody>\n",
              "</table>\n",
              "</div>\n",
              "      <button class=\"colab-df-convert\" onclick=\"convertToInteractive('df-65267873-0f5d-4a12-bddc-645f4dc36993')\"\n",
              "              title=\"Convert this dataframe to an interactive table.\"\n",
              "              style=\"display:none;\">\n",
              "        \n",
              "  <svg xmlns=\"http://www.w3.org/2000/svg\" height=\"24px\"viewBox=\"0 0 24 24\"\n",
              "       width=\"24px\">\n",
              "    <path d=\"M0 0h24v24H0V0z\" fill=\"none\"/>\n",
              "    <path d=\"M18.56 5.44l.94 2.06.94-2.06 2.06-.94-2.06-.94-.94-2.06-.94 2.06-2.06.94zm-11 1L8.5 8.5l.94-2.06 2.06-.94-2.06-.94L8.5 2.5l-.94 2.06-2.06.94zm10 10l.94 2.06.94-2.06 2.06-.94-2.06-.94-.94-2.06-.94 2.06-2.06.94z\"/><path d=\"M17.41 7.96l-1.37-1.37c-.4-.4-.92-.59-1.43-.59-.52 0-1.04.2-1.43.59L10.3 9.45l-7.72 7.72c-.78.78-.78 2.05 0 2.83L4 21.41c.39.39.9.59 1.41.59.51 0 1.02-.2 1.41-.59l7.78-7.78 2.81-2.81c.8-.78.8-2.07 0-2.86zM5.41 20L4 18.59l7.72-7.72 1.47 1.35L5.41 20z\"/>\n",
              "  </svg>\n",
              "      </button>\n",
              "      \n",
              "  <style>\n",
              "    .colab-df-container {\n",
              "      display:flex;\n",
              "      flex-wrap:wrap;\n",
              "      gap: 12px;\n",
              "    }\n",
              "\n",
              "    .colab-df-convert {\n",
              "      background-color: #E8F0FE;\n",
              "      border: none;\n",
              "      border-radius: 50%;\n",
              "      cursor: pointer;\n",
              "      display: none;\n",
              "      fill: #1967D2;\n",
              "      height: 32px;\n",
              "      padding: 0 0 0 0;\n",
              "      width: 32px;\n",
              "    }\n",
              "\n",
              "    .colab-df-convert:hover {\n",
              "      background-color: #E2EBFA;\n",
              "      box-shadow: 0px 1px 2px rgba(60, 64, 67, 0.3), 0px 1px 3px 1px rgba(60, 64, 67, 0.15);\n",
              "      fill: #174EA6;\n",
              "    }\n",
              "\n",
              "    [theme=dark] .colab-df-convert {\n",
              "      background-color: #3B4455;\n",
              "      fill: #D2E3FC;\n",
              "    }\n",
              "\n",
              "    [theme=dark] .colab-df-convert:hover {\n",
              "      background-color: #434B5C;\n",
              "      box-shadow: 0px 1px 3px 1px rgba(0, 0, 0, 0.15);\n",
              "      filter: drop-shadow(0px 1px 2px rgba(0, 0, 0, 0.3));\n",
              "      fill: #FFFFFF;\n",
              "    }\n",
              "  </style>\n",
              "\n",
              "      <script>\n",
              "        const buttonEl =\n",
              "          document.querySelector('#df-65267873-0f5d-4a12-bddc-645f4dc36993 button.colab-df-convert');\n",
              "        buttonEl.style.display =\n",
              "          google.colab.kernel.accessAllowed ? 'block' : 'none';\n",
              "\n",
              "        async function convertToInteractive(key) {\n",
              "          const element = document.querySelector('#df-65267873-0f5d-4a12-bddc-645f4dc36993');\n",
              "          const dataTable =\n",
              "            await google.colab.kernel.invokeFunction('convertToInteractive',\n",
              "                                                     [key], {});\n",
              "          if (!dataTable) return;\n",
              "\n",
              "          const docLinkHtml = 'Like what you see? Visit the ' +\n",
              "            '<a target=\"_blank\" href=https://colab.research.google.com/notebooks/data_table.ipynb>data table notebook</a>'\n",
              "            + ' to learn more about interactive tables.';\n",
              "          element.innerHTML = '';\n",
              "          dataTable['output_type'] = 'display_data';\n",
              "          await google.colab.output.renderOutput(dataTable, element);\n",
              "          const docLink = document.createElement('div');\n",
              "          docLink.innerHTML = docLinkHtml;\n",
              "          element.appendChild(docLink);\n",
              "        }\n",
              "      </script>\n",
              "    </div>\n",
              "  </div>\n",
              "  "
            ]
          },
          "metadata": {},
          "execution_count": 10
        }
      ]
    },
    {
      "cell_type": "code",
      "source": [
        "ajg_title = ajg['Jourmal Title']"
      ],
      "metadata": {
        "id": "46qB0HU0yuJF"
      },
      "execution_count": null,
      "outputs": []
    },
    {
      "cell_type": "code",
      "source": [
        "ajg_title"
      ],
      "metadata": {
        "colab": {
          "base_uri": "https://localhost:8080/"
        },
        "id": "5t-qvRjWy6Mx",
        "outputId": "79dfa301-4b94-4468-89df-5c0eb5356cda"
      },
      "execution_count": null,
      "outputs": [
        {
          "output_type": "execute_result",
          "data": {
            "text/plain": [
              "0                                      Accounting Review\n",
              "1                  Accounting, Organizations and Society\n",
              "2                    Journal of Accounting and Economics\n",
              "3                         Journal of Accounting Research\n",
              "4                       Contemporary Accounting Research\n",
              "                              ...                       \n",
              "1693    Journal of Strategic Contracting and Negotiation\n",
              "1694                  Journal of Strategy and Management\n",
              "1695                                          M@n@gement\n",
              "1696                         Management Review Quarterly\n",
              "1697                             Strategy and Leadership\n",
              "Name: Jourmal Title, Length: 1698, dtype: object"
            ]
          },
          "metadata": {},
          "execution_count": 13
        }
      ]
    },
    {
      "cell_type": "code",
      "source": [
        "model = PolyFuzz(\"TF-IDF\").match(all_titles, ajg_title.tolist())"
      ],
      "metadata": {
        "id": "VU1qXTFTy8WK"
      },
      "execution_count": null,
      "outputs": []
    },
    {
      "cell_type": "code",
      "source": [
        "model.get_matches().sort_values('Similarity', ascending=False).reset_index().to_csv('matches_ike.csv')"
      ],
      "metadata": {
        "id": "0AWz21dozOaV"
      },
      "execution_count": null,
      "outputs": []
    },
    {
      "cell_type": "code",
      "source": [
        "matched_journals = model.get_matches().sort_values('Similarity', ascending=False).query(\"Similarity >= 0.9\")"
      ],
      "metadata": {
        "id": "D7OeMnkxzXtn"
      },
      "execution_count": null,
      "outputs": []
    },
    {
      "cell_type": "code",
      "source": [
        "matched_journals"
      ],
      "metadata": {
        "colab": {
          "base_uri": "https://localhost:8080/",
          "height": 526
        },
        "id": "cudSDI-H8TBK",
        "outputId": "3b1d1665-daf5-42fa-ce4b-7d521976b453"
      },
      "execution_count": null,
      "outputs": [
        {
          "output_type": "execute_result",
          "data": {
            "text/plain": [
              "                                                  From  \\\n",
              "471                  Journal of Business and Economics   \n",
              "189        Technological Forecasting and Social Change   \n",
              "170                                       Technovation   \n",
              "174  International Journal of Entrepreneurship and ...   \n",
              "175                       Journal of Business Strategy   \n",
              "..                                                 ...   \n",
              "207                      Economics and Business Review   \n",
              "127                    The European Journal of Finance   \n",
              "26                                  Management Control   \n",
              "267                           Journal of Family Issues   \n",
              "468                        Business Research Quarterly   \n",
              "\n",
              "                                                    To  Similarity  \n",
              "471                  Journal of Economics and Business       1.000  \n",
              "189        Technological Forecasting and Social Change       1.000  \n",
              "170                                       Technovation       1.000  \n",
              "174  International Journal of Entrepreneurship and ...       1.000  \n",
              "175                       Journal of Business Strategy       1.000  \n",
              "..                                                 ...         ...  \n",
              "207                       Economic and Business Review       0.973  \n",
              "127                        European Journal of Finance       0.961  \n",
              "26                       Journal of Management Control       0.960  \n",
              "267              Journal of Family and Economic Issues       0.932  \n",
              "468                    BRQ Business Research Quarterly       0.904  \n",
              "\n",
              "[227 rows x 3 columns]"
            ],
            "text/html": [
              "\n",
              "  <div id=\"df-013ae432-4c11-45a3-ab03-c242dc082c28\">\n",
              "    <div class=\"colab-df-container\">\n",
              "      <div>\n",
              "<style scoped>\n",
              "    .dataframe tbody tr th:only-of-type {\n",
              "        vertical-align: middle;\n",
              "    }\n",
              "\n",
              "    .dataframe tbody tr th {\n",
              "        vertical-align: top;\n",
              "    }\n",
              "\n",
              "    .dataframe thead th {\n",
              "        text-align: right;\n",
              "    }\n",
              "</style>\n",
              "<table border=\"1\" class=\"dataframe\">\n",
              "  <thead>\n",
              "    <tr style=\"text-align: right;\">\n",
              "      <th></th>\n",
              "      <th>From</th>\n",
              "      <th>To</th>\n",
              "      <th>Similarity</th>\n",
              "    </tr>\n",
              "  </thead>\n",
              "  <tbody>\n",
              "    <tr>\n",
              "      <th>471</th>\n",
              "      <td>Journal of Business and Economics</td>\n",
              "      <td>Journal of Economics and Business</td>\n",
              "      <td>1.000</td>\n",
              "    </tr>\n",
              "    <tr>\n",
              "      <th>189</th>\n",
              "      <td>Technological Forecasting and Social Change</td>\n",
              "      <td>Technological Forecasting and Social Change</td>\n",
              "      <td>1.000</td>\n",
              "    </tr>\n",
              "    <tr>\n",
              "      <th>170</th>\n",
              "      <td>Technovation</td>\n",
              "      <td>Technovation</td>\n",
              "      <td>1.000</td>\n",
              "    </tr>\n",
              "    <tr>\n",
              "      <th>174</th>\n",
              "      <td>International Journal of Entrepreneurship and ...</td>\n",
              "      <td>International Journal of Entrepreneurship and ...</td>\n",
              "      <td>1.000</td>\n",
              "    </tr>\n",
              "    <tr>\n",
              "      <th>175</th>\n",
              "      <td>Journal of Business Strategy</td>\n",
              "      <td>Journal of Business Strategy</td>\n",
              "      <td>1.000</td>\n",
              "    </tr>\n",
              "    <tr>\n",
              "      <th>...</th>\n",
              "      <td>...</td>\n",
              "      <td>...</td>\n",
              "      <td>...</td>\n",
              "    </tr>\n",
              "    <tr>\n",
              "      <th>207</th>\n",
              "      <td>Economics and Business Review</td>\n",
              "      <td>Economic and Business Review</td>\n",
              "      <td>0.973</td>\n",
              "    </tr>\n",
              "    <tr>\n",
              "      <th>127</th>\n",
              "      <td>The European Journal of Finance</td>\n",
              "      <td>European Journal of Finance</td>\n",
              "      <td>0.961</td>\n",
              "    </tr>\n",
              "    <tr>\n",
              "      <th>26</th>\n",
              "      <td>Management Control</td>\n",
              "      <td>Journal of Management Control</td>\n",
              "      <td>0.960</td>\n",
              "    </tr>\n",
              "    <tr>\n",
              "      <th>267</th>\n",
              "      <td>Journal of Family Issues</td>\n",
              "      <td>Journal of Family and Economic Issues</td>\n",
              "      <td>0.932</td>\n",
              "    </tr>\n",
              "    <tr>\n",
              "      <th>468</th>\n",
              "      <td>Business Research Quarterly</td>\n",
              "      <td>BRQ Business Research Quarterly</td>\n",
              "      <td>0.904</td>\n",
              "    </tr>\n",
              "  </tbody>\n",
              "</table>\n",
              "<p>227 rows × 3 columns</p>\n",
              "</div>\n",
              "      <button class=\"colab-df-convert\" onclick=\"convertToInteractive('df-013ae432-4c11-45a3-ab03-c242dc082c28')\"\n",
              "              title=\"Convert this dataframe to an interactive table.\"\n",
              "              style=\"display:none;\">\n",
              "        \n",
              "  <svg xmlns=\"http://www.w3.org/2000/svg\" height=\"24px\"viewBox=\"0 0 24 24\"\n",
              "       width=\"24px\">\n",
              "    <path d=\"M0 0h24v24H0V0z\" fill=\"none\"/>\n",
              "    <path d=\"M18.56 5.44l.94 2.06.94-2.06 2.06-.94-2.06-.94-.94-2.06-.94 2.06-2.06.94zm-11 1L8.5 8.5l.94-2.06 2.06-.94-2.06-.94L8.5 2.5l-.94 2.06-2.06.94zm10 10l.94 2.06.94-2.06 2.06-.94-2.06-.94-.94-2.06-.94 2.06-2.06.94z\"/><path d=\"M17.41 7.96l-1.37-1.37c-.4-.4-.92-.59-1.43-.59-.52 0-1.04.2-1.43.59L10.3 9.45l-7.72 7.72c-.78.78-.78 2.05 0 2.83L4 21.41c.39.39.9.59 1.41.59.51 0 1.02-.2 1.41-.59l7.78-7.78 2.81-2.81c.8-.78.8-2.07 0-2.86zM5.41 20L4 18.59l7.72-7.72 1.47 1.35L5.41 20z\"/>\n",
              "  </svg>\n",
              "      </button>\n",
              "      \n",
              "  <style>\n",
              "    .colab-df-container {\n",
              "      display:flex;\n",
              "      flex-wrap:wrap;\n",
              "      gap: 12px;\n",
              "    }\n",
              "\n",
              "    .colab-df-convert {\n",
              "      background-color: #E8F0FE;\n",
              "      border: none;\n",
              "      border-radius: 50%;\n",
              "      cursor: pointer;\n",
              "      display: none;\n",
              "      fill: #1967D2;\n",
              "      height: 32px;\n",
              "      padding: 0 0 0 0;\n",
              "      width: 32px;\n",
              "    }\n",
              "\n",
              "    .colab-df-convert:hover {\n",
              "      background-color: #E2EBFA;\n",
              "      box-shadow: 0px 1px 2px rgba(60, 64, 67, 0.3), 0px 1px 3px 1px rgba(60, 64, 67, 0.15);\n",
              "      fill: #174EA6;\n",
              "    }\n",
              "\n",
              "    [theme=dark] .colab-df-convert {\n",
              "      background-color: #3B4455;\n",
              "      fill: #D2E3FC;\n",
              "    }\n",
              "\n",
              "    [theme=dark] .colab-df-convert:hover {\n",
              "      background-color: #434B5C;\n",
              "      box-shadow: 0px 1px 3px 1px rgba(0, 0, 0, 0.15);\n",
              "      filter: drop-shadow(0px 1px 2px rgba(0, 0, 0, 0.3));\n",
              "      fill: #FFFFFF;\n",
              "    }\n",
              "  </style>\n",
              "\n",
              "      <script>\n",
              "        const buttonEl =\n",
              "          document.querySelector('#df-013ae432-4c11-45a3-ab03-c242dc082c28 button.colab-df-convert');\n",
              "        buttonEl.style.display =\n",
              "          google.colab.kernel.accessAllowed ? 'block' : 'none';\n",
              "\n",
              "        async function convertToInteractive(key) {\n",
              "          const element = document.querySelector('#df-013ae432-4c11-45a3-ab03-c242dc082c28');\n",
              "          const dataTable =\n",
              "            await google.colab.kernel.invokeFunction('convertToInteractive',\n",
              "                                                     [key], {});\n",
              "          if (!dataTable) return;\n",
              "\n",
              "          const docLinkHtml = 'Like what you see? Visit the ' +\n",
              "            '<a target=\"_blank\" href=https://colab.research.google.com/notebooks/data_table.ipynb>data table notebook</a>'\n",
              "            + ' to learn more about interactive tables.';\n",
              "          element.innerHTML = '';\n",
              "          dataTable['output_type'] = 'display_data';\n",
              "          await google.colab.output.renderOutput(dataTable, element);\n",
              "          const docLink = document.createElement('div');\n",
              "          docLink.innerHTML = docLinkHtml;\n",
              "          element.appendChild(docLink);\n",
              "        }\n",
              "      </script>\n",
              "    </div>\n",
              "  </div>\n",
              "  "
            ]
          },
          "metadata": {},
          "execution_count": 25
        }
      ]
    },
    {
      "cell_type": "code",
      "source": [
        "merged1 = all_journals.merge(matched_journals[['From','To']], how='inner', left_on='journal', right_on='From')"
      ],
      "metadata": {
        "id": "iSwZqhVM7lbH"
      },
      "execution_count": null,
      "outputs": []
    },
    {
      "cell_type": "code",
      "source": [
        "merged2 = merged1.merge(ajg, left_on='To', right_on='Jourmal Title', how='inner')"
      ],
      "metadata": {
        "id": "GhDitVP-8NRi"
      },
      "execution_count": null,
      "outputs": []
    },
    {
      "cell_type": "code",
      "source": [
        "merged2['group'].value_counts(normalize=True)"
      ],
      "metadata": {
        "colab": {
          "base_uri": "https://localhost:8080/"
        },
        "id": "ksikIorc9nNx",
        "outputId": "cad5920d-09fc-4a00-9d16-e66aadd197d4"
      },
      "execution_count": null,
      "outputs": [
        {
          "output_type": "execute_result",
          "data": {
            "text/plain": [
              "The IKE Research Group                                   0.261456\n",
              "International Business Research Group                    0.231806\n",
              "Accounting Research Group                                0.153639\n",
              "The Strategy, Organization and Management Group          0.140162\n",
              "Marketing and Market Processes Research Group            0.115903\n",
              "Macroeconomic Methodology, Theory and Economic Policy    0.056604\n",
              "FINANCE                                                  0.040431\n",
              "Name: group, dtype: float64"
            ]
          },
          "metadata": {},
          "execution_count": 47
        }
      ]
    },
    {
      "cell_type": "code",
      "source": [
        "merged2[merged2['AJG 2021']!=1]['group'].value_counts(normalize=True)"
      ],
      "metadata": {
        "colab": {
          "base_uri": "https://localhost:8080/"
        },
        "id": "4Vd7IpSE9vD3",
        "outputId": "4272cad0-2a11-4da7-bcaf-b1464d0a6ccd"
      },
      "execution_count": null,
      "outputs": [
        {
          "output_type": "execute_result",
          "data": {
            "text/plain": [
              "The IKE Research Group                                   0.278351\n",
              "International Business Research Group                    0.199313\n",
              "Accounting Research Group                                0.164948\n",
              "The Strategy, Organization and Management Group          0.140893\n",
              "Marketing and Market Processes Research Group            0.120275\n",
              "FINANCE                                                  0.048110\n",
              "Macroeconomic Methodology, Theory and Economic Policy    0.048110\n",
              "Name: group, dtype: float64"
            ]
          },
          "metadata": {},
          "execution_count": 48
        }
      ]
    },
    {
      "cell_type": "code",
      "source": [
        "merged2.groupby('group')['AJG 2021'].value_counts(normalize=True)"
      ],
      "metadata": {
        "colab": {
          "base_uri": "https://localhost:8080/"
        },
        "id": "GfD0J4Z485Xn",
        "outputId": "b45c001b-771c-41e7-bc19-8a0e6924c58d"
      },
      "execution_count": null,
      "outputs": [
        {
          "output_type": "execute_result",
          "data": {
            "text/plain": [
              "group                                                  AJG 2021\n",
              "Accounting Research Group                              2           0.421053\n",
              "                                                       3           0.315789\n",
              "                                                       1           0.157895\n",
              "                                                       4*          0.070175\n",
              "                                                       4           0.035088\n",
              "FINANCE                                                2           0.533333\n",
              "                                                       3           0.333333\n",
              "                                                       1           0.066667\n",
              "                                                       4           0.066667\n",
              "International Business Research Group                  3           0.383721\n",
              "                                                       1           0.325581\n",
              "                                                       2           0.186047\n",
              "                                                       4*          0.069767\n",
              "                                                       4           0.034884\n",
              "Macroeconomic Methodology, Theory and Economic Policy  1           0.333333\n",
              "                                                       3           0.333333\n",
              "                                                       2           0.285714\n",
              "                                                       4*          0.047619\n",
              "Marketing and Market Processes Research Group          3           0.441860\n",
              "                                                       2           0.255814\n",
              "                                                       1           0.186047\n",
              "                                                       4           0.116279\n",
              "The IKE Research Group                                 3           0.350515\n",
              "                                                       2           0.298969\n",
              "                                                       1           0.164948\n",
              "                                                       4           0.123711\n",
              "                                                       4*          0.061856\n",
              "The Strategy, Organization and Management Group        3           0.403846\n",
              "                                                       2           0.250000\n",
              "                                                       1           0.211538\n",
              "                                                       4           0.076923\n",
              "                                                       4*          0.057692\n",
              "Name: AJG 2021, dtype: float64"
            ]
          },
          "metadata": {},
          "execution_count": 39
        }
      ]
    },
    {
      "cell_type": "code",
      "source": [
        "merged2.groupby('group')['AJG 2021'].value_counts(normalize=False)"
      ],
      "metadata": {
        "colab": {
          "base_uri": "https://localhost:8080/"
        },
        "id": "MDKV6A7A--IO",
        "outputId": "76e43228-91c5-4119-da61-3cc0701bc1e8"
      },
      "execution_count": 49,
      "outputs": [
        {
          "output_type": "execute_result",
          "data": {
            "text/plain": [
              "group                                                  AJG 2021\n",
              "Accounting Research Group                              2           24\n",
              "                                                       3           18\n",
              "                                                       1            9\n",
              "                                                       4*           4\n",
              "                                                       4            2\n",
              "FINANCE                                                2            8\n",
              "                                                       3            5\n",
              "                                                       1            1\n",
              "                                                       4            1\n",
              "International Business Research Group                  3           33\n",
              "                                                       1           28\n",
              "                                                       2           16\n",
              "                                                       4*           6\n",
              "                                                       4            3\n",
              "Macroeconomic Methodology, Theory and Economic Policy  1            7\n",
              "                                                       3            7\n",
              "                                                       2            6\n",
              "                                                       4*           1\n",
              "Marketing and Market Processes Research Group          3           19\n",
              "                                                       2           11\n",
              "                                                       1            8\n",
              "                                                       4            5\n",
              "The IKE Research Group                                 3           34\n",
              "                                                       2           29\n",
              "                                                       1           16\n",
              "                                                       4           12\n",
              "                                                       4*           6\n",
              "The Strategy, Organization and Management Group        3           21\n",
              "                                                       2           13\n",
              "                                                       1           11\n",
              "                                                       4            4\n",
              "                                                       4*           3\n",
              "Name: AJG 2021, dtype: int64"
            ]
          },
          "metadata": {},
          "execution_count": 49
        }
      ]
    },
    {
      "cell_type": "code",
      "source": [],
      "metadata": {
        "id": "al4K8PNe--3k"
      },
      "execution_count": null,
      "outputs": []
    }
  ]
}